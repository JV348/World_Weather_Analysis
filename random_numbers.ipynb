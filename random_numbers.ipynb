{
 "cells": [
  {
   "cell_type": "code",
   "execution_count": 1,
   "id": "491bbfcb",
   "metadata": {},
   "outputs": [],
   "source": [
    "# Import the random module.\n",
    "import random"
   ]
  },
  {
   "cell_type": "code",
   "execution_count": 4,
   "id": "c351611a",
   "metadata": {},
   "outputs": [
    {
     "data": {
      "text/plain": [
       "-55"
      ]
     },
     "execution_count": 4,
     "metadata": {},
     "output_type": "execute_result"
    }
   ],
   "source": [
    "# Functions\n",
    "random.randint(-90, 90)"
   ]
  },
  {
   "cell_type": "code",
   "execution_count": 5,
   "id": "579f8dab",
   "metadata": {},
   "outputs": [
    {
     "data": {
      "text/plain": [
       "0.3005061397411143"
      ]
     },
     "execution_count": 5,
     "metadata": {},
     "output_type": "execute_result"
    }
   ],
   "source": [
    "random.random()"
   ]
  },
  {
   "cell_type": "code",
   "execution_count": 13,
   "id": "258aa50f",
   "metadata": {},
   "outputs": [
    {
     "data": {
      "text/plain": [
       "[84.10943376162895,\n",
       " 35.84324867730215,\n",
       " 24.437135167779356,\n",
       " -85.53173606332159,\n",
       " 70.23215506215219,\n",
       " 60.6294590089135,\n",
       " 46.28891276088407,\n",
       " 41.94158443680955,\n",
       " -75.86895418160537,\n",
       " -79.72599323258467]"
      ]
     },
     "execution_count": 13,
     "metadata": {},
     "output_type": "execute_result"
    }
   ],
   "source": [
    "# Using these two functions, we can write an algorithm that will generate latitudes between –90 and 89\n",
    "x = 1\n",
    "latitudes = []\n",
    "while x < 11:\n",
    "    random_lat = random.randint(-90, 90) + random.random()\n",
    "    latitudes.append(random_lat)\n",
    "    x += 1\n",
    "latitudes"
   ]
  },
  {
   "cell_type": "code",
   "execution_count": null,
   "id": "860abdeb",
   "metadata": {},
   "outputs": [],
   "source": [
    "# Using these two functions, we can write an algorithm that will generate latitudes between –90 and 89\n",
    "x = 1\n",
    "longitudes = []\n",
    "while x < 11:\n",
    "    random_lat = random.randint(-180, 180) + random.random()\n",
    "    longitudes.append(random_lat)\n",
    "    x += 1\n",
    "longitudes"
   ]
  },
  {
   "cell_type": "code",
   "execution_count": 14,
   "id": "91783c05",
   "metadata": {},
   "outputs": [
    {
     "data": {
      "text/plain": [
       "-84"
      ]
     },
     "execution_count": 14,
     "metadata": {},
     "output_type": "execute_result"
    }
   ],
   "source": [
    "# randrange() Function; where step is the difference between the two numbers \n",
    "random.randrange(-90, 90, step=1)"
   ]
  },
  {
   "cell_type": "code",
   "execution_count": 15,
   "id": "14361286",
   "metadata": {},
   "outputs": [
    {
     "data": {
      "text/plain": [
       "-12"
      ]
     },
     "execution_count": 15,
     "metadata": {},
     "output_type": "execute_result"
    }
   ],
   "source": [
    "# randrange() Function; where the difference between each number in the sequence is 3.\n",
    "random.randrange(-90, 90, step=3)"
   ]
  },
  {
   "cell_type": "code",
   "execution_count": 16,
   "id": "c26469ac",
   "metadata": {},
   "outputs": [
    {
     "data": {
      "text/plain": [
       "27.617438840422793"
      ]
     },
     "execution_count": 16,
     "metadata": {},
     "output_type": "execute_result"
    }
   ],
   "source": [
    "random.uniform(-90, 90)"
   ]
  },
  {
   "cell_type": "code",
   "execution_count": 17,
   "id": "d2550a29",
   "metadata": {},
   "outputs": [],
   "source": [
    "# Trying to generate 1500 random \n",
    "# Import the NumPy module.\n",
    "import numpy as np"
   ]
  },
  {
   "cell_type": "code",
   "execution_count": 18,
   "id": "c81aa2aa",
   "metadata": {},
   "outputs": [
    {
     "data": {
      "text/plain": [
       "7.326906575619844"
      ]
     },
     "execution_count": 18,
     "metadata": {},
     "output_type": "execute_result"
    }
   ],
   "source": [
    "np.random.uniform(-90.000, 90.000)"
   ]
  },
  {
   "cell_type": "code",
   "execution_count": 20,
   "id": "c65b428a",
   "metadata": {},
   "outputs": [
    {
     "data": {
      "text/plain": [
       "array([-81.33520474, -79.03777517,  62.59563006,  57.90386046,\n",
       "       -26.4618655 ,  52.63119063, -39.1821693 ,  87.92465075,\n",
       "        79.83950374, -58.29416084,  38.42656793,  10.54833952,\n",
       "       -16.19998337,   5.42294606, -38.54213022, -67.33886909,\n",
       "       -77.127232  , -28.5959088 , -78.47659095,  40.40332571,\n",
       "       -13.81043001,  11.88258714, -54.46282796,  28.67114012,\n",
       "       -57.61492962,  -6.96087268, -50.85645914, -26.86064715,\n",
       "       -21.56195942, -53.29651051, -33.52067696,  23.40072882,\n",
       "        87.20017101,   1.11338115,  14.51378456, -81.30142722,\n",
       "        59.2853753 ,   0.43817901,  54.5234155 ,  13.5313063 ,\n",
       "        18.68591903,  -4.75014283, -78.47302675,  -4.87298337,\n",
       "       -12.88823017,  54.71610349,  67.33454455,  45.82678256,\n",
       "        51.24927172, -51.62158085])"
      ]
     },
     "execution_count": 20,
     "metadata": {},
     "output_type": "execute_result"
    }
   ],
   "source": [
    "np.random.uniform(-90.000, 90.000, size=50)"
   ]
  },
  {
   "cell_type": "code",
   "execution_count": 21,
   "id": "815a15b2",
   "metadata": {},
   "outputs": [],
   "source": [
    "# Comparing efficiency; looking at time  \n",
    "# Import timeit.\n",
    "import timeit"
   ]
  },
  {
   "cell_type": "code",
   "execution_count": 22,
   "id": "368ef59f",
   "metadata": {},
   "outputs": [
    {
     "name": "stdout",
     "output_type": "stream",
     "text": [
      "19.8 µs ± 857 ns per loop (mean ± std. dev. of 7 runs, 10000 loops each)\n"
     ]
    }
   ],
   "source": [
    "%timeit np.random.uniform(-90.000, 90.000, size=1500)"
   ]
  },
  {
   "cell_type": "code",
   "execution_count": 23,
   "id": "19bea4d0",
   "metadata": {},
   "outputs": [
    {
     "name": "stdout",
     "output_type": "stream",
     "text": [
      "2.16 ms ± 204 µs per loop (mean ± std. dev. of 7 runs, 100 loops each)\n"
     ]
    }
   ],
   "source": [
    "#Now, let's run the while loop as a function\n",
    "def latitudes(size):\n",
    "    latitudes = []\n",
    "    x = 0\n",
    "    while x < (size):\n",
    "        random_lat = random.randint(-90, 90) + random.random()\n",
    "        latitudes.append(random_lat)\n",
    "        x += 1\n",
    "    return latitudes\n",
    "# Call the function with 1500.\n",
    "%timeit latitudes(1500)"
   ]
  }
 ],
 "metadata": {
  "kernelspec": {
   "display_name": "PythonData",
   "language": "python",
   "name": "pythondata"
  },
  "language_info": {
   "codemirror_mode": {
    "name": "ipython",
    "version": 3
   },
   "file_extension": ".py",
   "mimetype": "text/x-python",
   "name": "python",
   "nbconvert_exporter": "python",
   "pygments_lexer": "ipython3",
   "version": "3.7.11"
  }
 },
 "nbformat": 4,
 "nbformat_minor": 5
}
